{
 "cells": [
  {
   "cell_type": "markdown",
   "metadata": {},
   "source": [
    "# Choosing Sample Sizes and Estimators in Studies of Online Behavior\n",
    "J. Nathan Matias, January 2016\n",
    "\n",
    "In my roles at Princeton University and CivilServant, I often conduct and teach students how to conduct power analyses of experiments. In this process, researchers state their assumptions about a study and what they want to be able to observe and work from those assumptions to make decisions about the study based on what is statistically-possible:\n",
    "* deciding between different kinds of designs (what to measure, how many arms, comparisons, etc)\n",
    "* deciding between different kinds of estimators\n",
    "* deciding what sample size to use\n",
    "\n",
    "In September 2018, I wrote a blog post about [estimating counts of events in behavioral product testing](https://medium.com/@natematias/estimating-counts-of-events-in-behavioral-product-testing-e3b68f6143e2). Since then, I have learned how to use [DeclareDesign](http://declaredesign.org/), software for designing and evaluating study designs, including power analyses. This followup notebook continues what I began in that post, by more systematically comparing linear, poisson, and negative binomial estimators using simulated parameters based on  a real study I conducted in 2016.\n",
    "\n",
    "Note: studies of online behavior usually include count outcomes, so this example will exclusively focus on count outcomes. Mathematics in the utility functions are drawn from:\n",
    "*  Long, J. Scott. 1997. [Regression Models for Categorical and Limited Dependent Variables](https://us.sagepub.com/en-us/nam/regression-models-for-categorical-and-limited-dependent-variables/book6071). 1 edition. Thousand Oaks: SAGE Publications, Inc.\n",
    "\n",
    "I am grateful to my fellow postdoc [Jasper Cooper](http://jasper-cooper.com/) for presenting to the Paluck Lab last fall about how to use DeclareDesign, and to Neal Fultz, for [generously answering my questions on the DeclareDesign forum](http://discuss.declaredesign.org/t/subsetting-errors-in-a-glm-nb-multi-arm-experiment/60)."
   ]
  },
  {
   "cell_type": "code",
   "execution_count": 86,
   "metadata": {},
   "outputs": [
    {
     "data": {
      "text/plain": [
       "R version 3.5.1 (2018-07-02)\n",
       "Platform: x86_64-apple-darwin15.6.0 (64-bit)\n",
       "Running under: macOS  10.14.1\n",
       "\n",
       "Matrix products: default\n",
       "BLAS: /Library/Frameworks/R.framework/Versions/3.5/Resources/lib/libRblas.0.dylib\n",
       "LAPACK: /Library/Frameworks/R.framework/Versions/3.5/Resources/lib/libRlapack.dylib\n",
       "\n",
       "locale:\n",
       "[1] en_US.UTF-8/en_US.UTF-8/en_US.UTF-8/C/en_US.UTF-8/en_US.UTF-8\n",
       "\n",
       "attached base packages:\n",
       "[1] stats     graphics  grDevices utils     datasets  methods   base     \n",
       "\n",
       "other attached packages:\n",
       " [1] DeclareDesign_0.13.0 estimatr_0.14        fabricatr_0.6.0     \n",
       " [4] randomizr_0.16.1     forcats_0.3.0        stringr_1.3.1       \n",
       " [7] purrr_0.2.5          readr_1.3.1          tidyr_0.8.2         \n",
       "[10] tibble_2.0.0         tidyverse_1.2.1      rlang_0.3.0.1       \n",
       "[13] ggplot2_3.1.0        MASS_7.3-51.1        dplyr_0.7.8         \n",
       "\n",
       "loaded via a namespace (and not attached):\n",
       " [1] pbdZMQ_0.3-3     tidyselect_0.2.5 repr_0.19.1      haven_2.0.0     \n",
       " [5] lattice_0.20-38  generics_0.0.2   colorspace_1.3-2 htmltools_0.3.6 \n",
       " [9] base64enc_0.1-3  pillar_1.3.1     glue_1.3.0       withr_2.1.2     \n",
       "[13] modelr_0.1.2     readxl_1.2.0     bindrcpp_0.2.2   uuid_0.1-2      \n",
       "[17] bindr_0.1.1      plyr_1.8.4       munsell_0.5.0    gtable_0.2.0    \n",
       "[21] cellranger_1.1.0 rvest_0.3.2      evaluate_0.12    broom_0.5.1     \n",
       "[25] IRdisplay_0.7.0  Rcpp_1.0.0       scales_1.0.0     backports_1.1.3 \n",
       "[29] IRkernel_0.8.14  jsonlite_1.6     hms_0.4.2        digest_0.6.18   \n",
       "[33] stringi_1.2.4    grid_3.5.1       cli_1.0.1        tools_3.5.1     \n",
       "[37] magrittr_1.5     lazyeval_0.2.1   Formula_1.2-3    crayon_1.3.4    \n",
       "[41] pkgconfig_2.0.2  xml2_1.2.0       lubridate_1.7.4  assertthat_0.2.0\n",
       "[45] httr_1.4.0       rstudioapi_0.8   R6_2.3.0         nlme_3.1-137    \n",
       "[49] compiler_3.5.1  "
      ]
     },
     "metadata": {},
     "output_type": "display_data"
    }
   ],
   "source": [
    "options(\"scipen\"=9, \"digits\"=4)\n",
    "library(dplyr)\n",
    "library(MASS)\n",
    "library(ggplot2)\n",
    "library(rlang)\n",
    "library(tidyverse)\n",
    "library(DeclareDesign)\n",
    "## Installed DeclareDesign 0.13 using the following command:\n",
    "# install.packages(\"DeclareDesign\", dependencies = TRUE,\n",
    "#                 repos = c(\"http://R.declaredesign.org\", \"https://cloud.r-project.org\"))\n",
    "\n",
    "## DOCUMENTATION AT: https://cran.r-project.org/web/packages/DeclareDesign/DeclareDesign.pdf\n",
    "options(repr.plot.width=7, repr.plot.height=3.5)\n",
    "sessionInfo()"
   ]
  },
  {
   "cell_type": "markdown",
   "metadata": {},
   "source": [
    "### Utility Methods"
   ]
  },
  {
   "cell_type": "code",
   "execution_count": 87,
   "metadata": {},
   "outputs": [],
   "source": [
    "# Return the difference in mu associated with an incidence rate ratio\n",
    "# from a negative binomial model. This difference can then be used to\n",
    "# simulate a negative binomial distribution for the effect of a given irr\n",
    "#                                                                       \n",
    "#` @param mu The baseline mu in question                               \n",
    "#` @param irr The incidence rate ratio in question\n",
    "mu.diff.from.mu.irr <- function(mu, irr){\n",
    "    mu*(irr-1)\n",
    "}\n",
    "\n",
    "# Return the total sum of betas for a\n",
    "# logistic regression, given a probability\n",
    "#\n",
    "#` @param p the probability in question\n",
    "betas.logit.from.prob <- function(p){\n",
    "    log(p/(1-p))\n",
    "}\n",
    "\n",
    "\n",
    "# Return the total sum of betas for a\n",
    "# logistic regression, given a probability\n",
    "#\n",
    "#` @param Y list of observed Ys\n",
    "betas.logit.from.mean <- function(Y){\n",
    "    p = mean(Y)\n",
    "    log(p/(1-p))\n",
    "}\n",
    "\n",
    "# Return the minimum power reported in a diagnosis\n",
    "# \n",
    "#` @param diagnosis\n",
    "min.diagnosis.power <- function(diagnosis){\n",
    "    min(diagnosis$diagnosands_df['power'])\n",
    "}\n"
   ]
  },
  {
   "cell_type": "markdown",
   "metadata": {},
   "source": [
    "### Utility method: Binary search for a target statistical power"
   ]
  },
  {
   "cell_type": "code",
   "execution_count": 88,
   "metadata": {},
   "outputs": [],
   "source": [
    "# Conduct a binary search for a certain level of statistical power\n",
    "# within the constraints of a configuration file\n",
    "#\n",
    "#` @param config.df The configuration file in question\n",
    "#` @diagnosis.method The method that conducts a single DeclareDesign diagnosis and returns the diagnosis\n",
    "#` @target.power The statistical power that ideally should be the minimum across the study\n",
    "#` @target.tolerance How close to the desired statistical power is close enough?\n",
    "#` @min.sample.diff If the binary search is considering a sample size difference smaller than min.sample.diff, end the search\n",
    "\n",
    "search.for.power <- function(config.df, diagnosis.method = diagnose.multipop.multiarm, target.power = 0.85, target.tolerance = 0.01, min.sample.diff = 1000){\n",
    "\n",
    "    max.sample.size = config.df$n.max\n",
    "    min.sample.size = config.df$n.min\n",
    "    current.sample.size = as.integer(max.sample.size / 2)\n",
    "    current.power = 0.0\n",
    "\n",
    "    ## Initialize first iteration\n",
    "    print(paste(\"min:\", min.sample.size, \"max:\", max.sample.size, \"current:\", current.sample.size))\n",
    "    flush.console()\n",
    "    ddf <- diagnosis.method(current.sample.size, config.df)\n",
    "    ddf$diagnosands$n <- current.sample.size\n",
    "    diagnoses.df = ddf$diagnosands \n",
    "    current.power <- min.diagnosis.power(ddf)\n",
    "\n",
    "    if(current.power < target.power){\n",
    "        min.sample.size = current.sample.size\n",
    "        print(paste(current.power, \"<\", target.power))\n",
    "    }else{\n",
    "        max.sample.size = current.sample.size\n",
    "        print(paste(current.power, \">\", target.power))\n",
    "    }   \n",
    "        \n",
    "    current.sample.size = min.sample.size + as.integer((max.sample.size - min.sample.size)/2)\n",
    "        \n",
    "    while(all.equal(target.power, current.power, tolerance = target.tolerance)!=TRUE){\n",
    "        print(paste(\"min:\", min.sample.size, \"max:\", max.sample.size, \"current:\", current.sample.size))\n",
    "        flush.console()\n",
    "        \n",
    "        ## conduct simulations\n",
    "        ddf <- diagnosis.method(current.sample.size, config.df)\n",
    "        ddf$diagnosands$n <- current.sample.size\n",
    "        ## append simulation results to dataframe\n",
    "        diagnoses.df <- rbind(diagnoses.df, ddf$diagnosands)\n",
    "            \n",
    "        ## check the current statistical power and\n",
    "        ## carry out the binary search by first updating the boundaries\n",
    "        current.power <- min.diagnosis.power(ddf) \n",
    "        if(current.power < target.power){\n",
    "            min.sample.size = current.sample.size\n",
    "            print(paste(current.power, \"<\", target.power))\n",
    "        }else{\n",
    "            max.sample.size = current.sample.size \n",
    "            print(paste(current.power, \">\", target.power))\n",
    "        }\n",
    "        ## update the current pointer, or break if\n",
    "        ## the sample size difference is less than or equal\n",
    "        ## to ten\n",
    "        sample.size.diff <- as.integer((max.sample.size - min.sample.size)/2)\n",
    "        if(abs(sample.size.diff) <= 1000){\n",
    "            print(paste(\"Sample size difference\", abs(sample.size.diff), \"is <= \", min.sample.diff ,\" Ending cycle.\"))\n",
    "            break\n",
    "        }\n",
    "        current.sample.size = min.sample.size + sample.size.diff\n",
    "    }\n",
    "    diagnoses.df\n",
    "}\n"
   ]
  },
  {
   "cell_type": "markdown",
   "metadata": {},
   "source": [
    "### Utility method: plot the power curve for the results of a binary search for statistical power"
   ]
  },
  {
   "cell_type": "code",
   "execution_count": 89,
   "metadata": {},
   "outputs": [],
   "source": [
    "# Create a plot of each power analysis\n",
    "#\n",
    "#' @param diagnoses Dataframe of diagnosis info\n",
    "#` @param config.df the power analysis config dataframe\n",
    "\n",
    "plot.power.results <- function(diagnoses, config.df){\n",
    "    for(estimator_label in unique(diagnoses$estimator_label)){\n",
    "        estimator.diagnoses <- diagnoses[diagnoses$estimator_label==estimator_label,]\n",
    "        estimator_min_sample = min(estimator.diagnoses$n[estimator.diagnoses$power>0.8])\n",
    "        p <- ggplot(data=estimator.diagnoses, aes(n, power)) +\n",
    "                geom_point(color=\"coral\") +\n",
    "                xlab(\"sample size\") +\n",
    "                ylim(0,1) +\n",
    "                geom_hline(aes(yintercept=0.8), linetype=\"dashed\") +\n",
    "                theme_light() +\n",
    "                ggtitle(paste(config.df$pa.label, \": statistical Power for Estimator \", estimator_label, \"\\n\",\n",
    "                              \"Minimum sample: \", estimator_min_sample, sep=\"\")) +\n",
    "                ggsave(paste(\"figures/power.analysis.\", make.names(estimator_label), \".\", config.df$pa.label, \".png\", sep=\"\"))\n",
    "    }\n",
    "}\n"
   ]
  },
  {
   "cell_type": "markdown",
   "metadata": {},
   "source": [
    "## Example DeclareDesign definition\n",
    "To diagnose a design with DeclareDesign, declare the basic assumptions about the study:\n",
    "* simulating everything: \n",
    " * a population\n",
    " * covariates\n",
    " * every potential outcome for every observation\n",
    " * assignment\n",
    " * estimands - what people sometimes describe as the expected \"true effects\"\n",
    " * \"reveal step\" simulates data collection, along with assumptions about incompleteness in data collection\n",
    " * estimators (the statistical tests you're using in the final estimation of results)\n",
    " \n",
    " Process\n",
    " * for one iteration of a power analysis:\n",
    "     * create an experiment design object / simulation\n",
    "     * diagnose the experiment design object\n",
    " * for a whole power analysis\n",
    "     * create a bunch of designs at different sample sizes, etc\n",
    "     * compare the diagnoses between them"
   ]
  },
  {
   "cell_type": "markdown",
   "metadata": {},
   "source": [
    "### Define study assumptions\n",
    "In this code example, I define some of the assumptions about the study in a dataframe that can then be adjusted and iterated as part of a power analysis. This is not required by DeclareDesign.\n",
    "\n",
    "I have derived the mu and theta parameters for this simulation by using the [`fitdistr`](https://stat.ethz.ch/R-manual/R-devel/library/MASS/html/fitdistr.html) method in the `MASS` R library."
   ]
  },
  {
   "cell_type": "code",
   "execution_count": 90,
   "metadata": {},
   "outputs": [],
   "source": [
    "example.config <- data.frame(\n",
    "    pa.label = \"example.design\",\n",
    "    n.max = 200,\n",
    "    n.min = 10000,\n",
    "    \n",
    "    YA.mu    = 7.680505605,\n",
    "    YA.theta = 0.095880936,\n",
    "    YA.effect.irr = exp(0.335)\n",
    ")"
   ]
  },
  {
   "cell_type": "code",
   "execution_count": 91,
   "metadata": {},
   "outputs": [],
   "source": [
    "design <-   declare_population(\n",
    "                N = 500) +\n",
    "            declare_potential_outcomes(\n",
    "                YA_Z_0 = rnegbin(n=N, mu = example.config$YA.mu, \n",
    "                                 theta = example.config$YA.theta),\n",
    "                YA_Z_1 = rnegbin(n=N, mu =  mu.diff.from.mu.irr(\n",
    "                                                example.config$YA.mu,\n",
    "                                                example.config$YA.effect.irr),\n",
    "                                 theta = example.config$YA.theta)\n",
    "            ) +\n",
    "            declare_assignment(num_arms = 2,\n",
    "                               conditions = (c(\"0\", \"1\"))) +\n",
    "            declare_estimand(ate_YA_1_0  = mean(YA_Z_1 - YA_Z_0)) +\n",
    "            declare_reveal(outcome_variables = c(\"YA\"))  +\n",
    "            declare_estimator(log1p(YA) ~ Z, label=\"lm_log_YA 1/0\") +\n",
    "            declare_estimator(label = \"Y90DayMinutes.nb 1/0\", estimand=\"ate_YA_1_0\", handler=tidy_estimator(function(data){\n",
    "                subset(tidy(glm.nb(formula = YA ~ Z, data, subset = (Z %in% c(0,1)))), term == \"Z1\")   \n",
    "            }))\n",
    "\n",
    "#             declare_estimator(handler=tidy_estimator(function(data){\n",
    "#                 m <- glm.nb(formula=YA ~ Z, data)\n",
    "#                 out <- subset(tidy(m), term == \"Z1\")\n",
    "#                 transform(out,\n",
    "#                      conf.low = estimate - 1.96*std.error,\n",
    "#                      conf.high = estimate + 1.96*std.error\n",
    "#                 )\n",
    "#             }), estimand=\"ate_YA_1_0\")"
   ]
  },
  {
   "cell_type": "code",
   "execution_count": 92,
   "metadata": {},
   "outputs": [
    {
     "name": "stderr",
     "output_type": "stream",
     "text": [
      "ERROR while rich displaying an object: Error in UseMethod(\"tidy\"): no applicable method for 'tidy' applied to an object of class \"c('negbin', 'glm', 'lm')\"\n",
      "\n",
      "Traceback:\n",
      "1. FUN(X[[i]], ...)\n",
      "2. tryCatch(withCallingHandlers({\n",
      " .     if (!mime %in% names(repr::mime2repr)) \n",
      " .         stop(\"No repr_* for mimetype \", mime, \" in repr::mime2repr\")\n",
      " .     rpr <- repr::mime2repr[[mime]](obj)\n",
      " .     if (is.null(rpr)) \n",
      " .         return(NULL)\n",
      " .     prepare_content(is.raw(rpr), rpr)\n",
      " . }, error = error_handler), error = outer_handler)\n",
      "3. tryCatchList(expr, classes, parentenv, handlers)\n",
      "4. tryCatchOne(expr, names, parentenv, handlers[[1L]])\n",
      "5. doTryCatch(return(expr), name, parentenv, handler)\n",
      "6. withCallingHandlers({\n",
      " .     if (!mime %in% names(repr::mime2repr)) \n",
      " .         stop(\"No repr_* for mimetype \", mime, \" in repr::mime2repr\")\n",
      " .     rpr <- repr::mime2repr[[mime]](obj)\n",
      " .     if (is.null(rpr)) \n",
      " .         return(NULL)\n",
      " .     prepare_content(is.raw(rpr), rpr)\n",
      " . }, error = error_handler)\n",
      "7. repr::mime2repr[[mime]](obj)\n",
      "8. repr_text.default(obj)\n",
      "9. paste(capture.output(print(obj)), collapse = \"\\n\")\n",
      "10. capture.output(print(obj))\n",
      "11. evalVis(expr)\n",
      "12. withVisible(eval(expr, pf))\n",
      "13. eval(expr, pf)\n",
      "14. eval(expr, pf)\n",
      "15. print(obj)\n",
      "16. print.design(obj)\n",
      "17. print(summary(x, verbose = verbose, ... = ...))\n",
      "18. summary(x, verbose = verbose, ... = ...)\n",
      "19. summary.design(x, verbose = verbose, ... = ...)\n",
      "20. design[[i]](current_df)\n",
      "21. eval_tidy(quo, data = list(data = data))\n",
      "22. (FUN)(data = data, estimand = ~\"ate_YA_1_0\", label = ~\"Y90DayMinutes.nb 1/0\")\n",
      "23. eval_tidy(quo(estimator_function(data, !!!dots)))\n",
      "24. estimator_function(data)\n",
      "25. subset(tidy(glm.nb(formula = YA ~ Z, data, subset = (Z %in% c(0, \n",
      "  .     1)))), term == \"Z1\")   # at line 17 of file <text>\n",
      "26. tidy(glm.nb(formula = YA ~ Z, data, subset = (Z %in% c(0, 1))))\n"
     ]
    },
    {
     "data": {},
     "metadata": {},
     "output_type": "display_data"
    }
   ],
   "source": [
    "design"
   ]
  },
  {
   "cell_type": "markdown",
   "metadata": {},
   "source": [
    "### View Design Details\n",
    "DeclareDesign makes it possible to view a detailed log of the assumptions built into a specific research design, as well as the values generated by a single simulation of those assumptions. Here is an example:"
   ]
  },
  {
   "cell_type": "code",
   "execution_count": 54,
   "metadata": {},
   "outputs": [
    {
     "data": {
      "text/plain": [
       "\n",
       "Design Summary\n",
       "\n",
       "Step 1 (population): declare_population(N = 500) -------------------------------\n",
       "\n",
       "N = 500 \n",
       "\n",
       "Added variable: ID \n",
       " N_missing N_unique     class\n",
       "         0      500 character\n",
       "\n",
       "Step 2 (potential outcomes): declare_potential_outcomes(YA_Z_0 = rnegbin(n = N, mu = example.config$YA.mu,     theta = example.config$YA.theta), YA_Z_1 = rnegbin(n = N,     mu = mu.diff.from.mu.irr(example.config$YA.mu, example.config$YA.effect.irr),     theta = example.config$YA.theta)) \n",
       "\n",
       "Added variable: YA_Z_0 \n",
       " min median mean max    sd N_missing N_unique\n",
       "   0      0 5.21 175 15.86         0       50\n",
       "\n",
       "Added variable: YA_Z_1 \n",
       " min median mean max   sd N_missing N_unique\n",
       "   0      0  2.5  88 8.42         0       33\n",
       "\n",
       "Step 3 (assignment): declare_assignment(num_arms = 2, conditions = (c(\"0\", \"1\"))) \n",
       "\n",
       "Added variable: Z \n",
       "    0    1\n",
       "  250  250\n",
       " 0.50 0.50\n",
       "\n",
       "Added variable: Z_cond_prob \n",
       "  0.5\n",
       "  500\n",
       " 1.00\n",
       "\n",
       "Step 4 (estimand): declare_estimand(ate_YA_1_0 = mean(YA_Z_1 - YA_Z_0)) --------\n",
       "\n",
       "A single draw of the estimand:\n",
       " estimand_label estimand\n",
       "     ate_YA_1_0   -2.706\n",
       "\n",
       "Step 5 (reveal): declare_reveal(outcome_variables = c(\"YA\")) -------------------\n",
       "\n",
       "Added variable: YA \n",
       " min median mean max    sd N_missing N_unique\n",
       "   0      0  4.4 175 14.28         0       46\n",
       "\n",
       "Step 6 (estimator): declare_estimator(log1p(YA) ~ Z, label = \"lm_log_YA 1/0\") --\n",
       "\n",
       "Formula: log1p(YA) ~ Z \n",
       "\n",
       "A single draw of the estimator:\n",
       " estimator_label term estimate std.error statistic p.value conf.low conf.high\n",
       "   lm_log_YA 1/0    Z  -0.1372   0.09998    -1.373  0.1705  -0.3337   0.05922\n",
       "    df   outcome\n",
       " 478.4 log1p(YA)\n"
      ]
     },
     "metadata": {},
     "output_type": "display_data"
    }
   ],
   "source": [
    "design"
   ]
  },
  {
   "cell_type": "markdown",
   "metadata": {},
   "source": [
    "### Diagnose Design\n",
    "In DeclareDesign, the diagnosis step simulates the study a large number of times and generates diagnosis information for the research design."
   ]
  },
  {
   "cell_type": "code",
   "execution_count": 52,
   "metadata": {},
   "outputs": [
    {
     "data": {
      "text/plain": [
       "\n",
       "Research design diagnosis based on 500 simulations. Diagnosand estimates with bootstrapped standard errors in parentheses (500 replicates).\n",
       "\n",
       " Design Label Estimand Label Estimator Label Term N Sims   Bias   RMSE  Power\n",
       "       design     ate_YA_1_0       estimator    Z    500   4.37   4.54   0.68\n",
       "                                                         (0.05) (0.05) (0.02)\n",
       " Coverage Mean Estimate SD Estimate Mean Se Type S Rate Mean Estimand\n",
       "     0.00         -0.26        0.10    0.11        0.00         -4.63\n",
       "   (0.00)        (0.00)      (0.00)  (0.00)      (0.00)        (0.05)"
      ]
     },
     "metadata": {},
     "output_type": "display_data"
    }
   ],
   "source": [
    "diagnose_design(design, sims=500, bootstrap_sims=500)"
   ]
  },
  {
   "cell_type": "markdown",
   "metadata": {},
   "source": [
    "### Interpreting the diagnosis\n",
    "DeclareDesign provides us with many very usful pieces of information for evaluating a given research design. Here are four that are especially useful:\n",
    "* **Power**: The statistical power of the overall study design. As used here, power is the probability that the result from a given study will satisfy the decision rule (in this case, a statistically-significant result at alpha = 0.05)\n",
    "* **Bias**: This result provides the average difference, across simulations, between the estimand (simulated \"true effect\") and the outcome of the estimation procedure. If a research procedure (including the estimator) is systematically biased within the parameters of the simulation, this result can show what that bias is. Like any simulation, the estimate of bias is more accurate at higher numbers of simulations\n",
    "* **Coverage**: The probability that the estimand is included in the confidence intervals of the estimated result. This is especially useful when making decisions about the estimation procedure of a study\n",
    "* **RMSE**: The root mean square error is the standard deviation of the difference between the estimator and the estimand across simulations. When comparing two estimators, a smaller root mean square error is better sqrt(mean((estimate - estimand)^2))\n"
   ]
  },
  {
   "cell_type": "markdown",
   "metadata": {},
   "source": [
    "# Search for Power"
   ]
  },
  {
   "cell_type": "code",
   "execution_count": 1,
   "metadata": {},
   "outputs": [],
   "source": [
    "# CONSTRUCT A DIAGNOSIS\n",
    "#\n",
    "#' @param n.size     the sample size to test\n",
    "#' @param config.df  the configuration dataframe to use \n",
    "#' @param sims.count the number of simulations to carry out\n",
    "#' @param bootstrap.sims.count the number of bootstraps for estimating the simulation test statistics  \n",
    "\n",
    "diagnose.experiment <- function(n.size, config.df, sims.count=100, bootstrap.sims.count=100){\n",
    "    design <-   declare_population(\n",
    "                    N = n.size) +\n",
    "                declare_potential_outcomes(\n",
    "                    YA_Z_0 = rnorm(n=N, mean=config.df$YA.mean),\n",
    "                    YA_Z_1 = rnorm(n=N, mean=config.df$YA.mean + config.df$YA.effect.a)\n",
    "                ) +\n",
    "                declare_assignment(num_arms = 2,\n",
    "                                   conditions = (c(\"0\", \"1\"))) +\n",
    "                declare_estimand(ate_YA_1_0  = mean(YA_Z_1 - YA_Z_0)) +\n",
    "                declare_reveal(outcome_variables = c(\"YA\"))  +\n",
    "                declare_estimator(YA ~ Z, model = lm, estimand=\"ate_YA_1_0\")\n",
    "#                 declare_estimator(label = \"YA.lm 1/0\", estimand = \"ate_YA_1_0\", handler = tidy_estimator(function(data){\n",
    "#                     subset(tidy(lm(formula = YA ~ Z, data)), term=\"Z1\")\n",
    "#                 })) #+\n",
    "#                declare_estimator(label = \"YNA.nb 1/0\", estimand=\"ate_YNA_1_0\",     handler=tidy_estimator(function(data){\n",
    "#                    subset(tidy(glm.nb(formula = YNA ~ Z, data, subset = (Z %in% c(0,1)))), term == \"Z1\")\n",
    "#                }))\n",
    "    \n",
    "    diagnosis <- diagnose_design(design, sims = sims.count, \n",
    "                                 bootstrap_sims = bootstrap.sims.count)\n",
    "    diagnosis\n",
    "}"
   ]
  },
  {
   "cell_type": "code",
   "execution_count": 43,
   "metadata": {},
   "outputs": [
    {
     "ename": "ERROR",
     "evalue": "Error in diagnose.experiment(100, experiment.config): could not find function \"diagnose.experiment\"\n",
     "output_type": "error",
     "traceback": [
      "Error in diagnose.experiment(100, experiment.config): could not find function \"diagnose.experiment\"\nTraceback:\n",
      "1. as.matrix(diagnose.experiment(100, experiment.config))"
     ]
    }
   ],
   "source": [
    "diagnose.experiment(200, experiment.config)"
   ]
  },
  {
   "cell_type": "code",
   "execution_count": 113,
   "metadata": {},
   "outputs": [],
   "source": [
    "search.for.power <- function(config.df, diagnosis.method = diagnose.experiment, target.power = 0.85, target.tolerance = 0.01, min.sample.diff = 1000){  \n",
    "    max.sample.size = config.df$n.max\n",
    "    min.sample.size = config.df$n.min\n",
    "    current.sample.size = as.integer(max.sample.size / 2)\n",
    "    current.power = 0.0\n",
    "\n",
    "    ## Initialize first iteration\n",
    "    print(paste(\"min:\", min.sample.size, \"max:\", max.sample.size, \"current:\", current.sample.size))\n",
    "    flush.console()\n",
    "    ddf <- diagnosis.method(current.sample.size, config.df)\n",
    "    ddf$diagnosands$n <- current.sample.size\n",
    "    diagnoses.df = ddf$diagnosands\n",
    "    current.power <- min.diagnosis.power(ddf)\n",
    "\n",
    "    if(current.power < target.power){\n",
    "        min.sample.size = current.sample.size\n",
    "        print(paste(current.power, \"<\", target.power))\n",
    "    }else{\n",
    "        max.sample.size = current.sample.size\n",
    "        print(paste(current.power, \">\", target.power))\n",
    "    }\n",
    "\n",
    "    current.sample.size = min.sample.size + as.integer((max.sample.size - min.sample.size)/2)\n",
    "   while(all.equal(target.power, current.power, tolerance = target.tolerance)!=TRUE){\n",
    "        print(paste(\"min:\", min.sample.size, \"max:\", max.sample.size, \"current:\", current.sample.size))\n",
    "        flush.console()\n",
    "\n",
    "        ## conduct simulations\n",
    "        ddf <- diagnosis.method(current.sample.size, config.df)\n",
    "        ddf$diagnosands$n <- current.sample.size\n",
    "        ## append simulation results to dataframe\n",
    "        diagnoses.df <- rbind(diagnoses.df, ddf$diagnosands)\n",
    "\n",
    "        ## check the current statistical power and\n",
    "        ## carry out the binary search by first updating the boundaries\n",
    "        current.power <- min.diagnosis.power(ddf)\n",
    "        if(current.power < target.power){\n",
    "            min.sample.size = current.sample.size\n",
    "            print(paste(current.power, \"<\", target.power))\n",
    "        }else{\n",
    "            max.sample.size = current.sample.size\n",
    "            print(paste(current.power, \">\", target.power))\n",
    "        }\n",
    "        ## update the current pointer, or break if\n",
    "        ## the sample size difference is less than or equal\n",
    "        ## to ten\n",
    "        sample.size.diff <- as.integer((max.sample.size - min.sample.size)/2)\n",
    "        if(abs(sample.size.diff) <= min.sample.diff){\n",
    "            print(paste(\"Sample size difference \", abs(sample.size.diff), \n",
    "                        \" <= \", min.sample.diff, \". Ending cycle.\", sep=\"\"))\n",
    "            break\n",
    "        }\n",
    "        current.sample.size = min.sample.size + sample.size.diff\n",
    "    }\n",
    "    diagnoses.df\n",
    "}"
   ]
  },
  {
   "cell_type": "code",
   "execution_count": 115,
   "metadata": {},
   "outputs": [
    {
     "name": "stdout",
     "output_type": "stream",
     "text": [
      "[1] \"min: 10 max: 10000 current: 5000\"\n",
      "[1] \"1 > 0.85\"\n",
      "[1] \"min: 10 max: 5000 current: 2505\"\n",
      "[1] \"1 > 0.85\"\n",
      "[1] \"min: 10 max: 2505 current: 1257\"\n",
      "[1] \"1 > 0.85\"\n",
      "[1] \"min: 10 max: 1257 current: 633\"\n",
      "[1] \"1 > 0.85\"\n",
      "[1] \"min: 10 max: 633 current: 321\"\n",
      "[1] \"1 > 0.85\"\n",
      "[1] \"min: 10 max: 321 current: 165\"\n",
      "[1] \"0.87 > 0.85\"\n",
      "[1] \"min: 10 max: 165 current: 87\"\n",
      "[1] \"0.64 < 0.85\"\n",
      "[1] \"min: 87 max: 165 current: 126\"\n",
      "[1] \"0.8 < 0.85\"\n",
      "[1] \"min: 126 max: 165 current: 145\"\n",
      "[1] \"0.89 > 0.85\"\n",
      "[1] \"Sample size difference 9 <= 10. Ending cycle.\"\n"
     ]
    }
   ],
   "source": [
    "power.df <- search.for.power(experiment.config, min.sample.diff= 10)"
   ]
  },
  {
   "cell_type": "code",
   "execution_count": 122,
   "metadata": {},
   "outputs": [
    {
     "data": {},
     "metadata": {},
     "output_type": "display_data"
    },
    {
     "data": {
      "image/png": "[encoded data removed]",
      "text/plain": [
       "plot without title"
      ]
     },
     "metadata": {},
     "output_type": "display_data"
    }
   ],
   "source": [
    "ggplot(power.df, aes(n, power))  +\n",
    "    geom_point()"
   ]
  },
  {
   "cell_type": "code",
   "execution_count": 116,
   "metadata": {},
   "outputs": [
    {
     "data": {
      "text/html": [
       "<table>\n",
       "<thead><tr><th scope=col>design_label</th><th scope=col>estimand_label</th><th scope=col>estimator_label</th><th scope=col>term</th><th scope=col>bias</th><th scope=col>se(bias)</th><th scope=col>rmse</th><th scope=col>se(rmse)</th><th scope=col>power</th><th scope=col>se(power)</th><th scope=col>⋯</th><th scope=col>sd_estimate</th><th scope=col>se(sd_estimate)</th><th scope=col>mean_se</th><th scope=col>se(mean_se)</th><th scope=col>type_s_rate</th><th scope=col>se(type_s_rate)</th><th scope=col>mean_estimand</th><th scope=col>se(mean_estimand)</th><th scope=col>n_sims</th><th scope=col>n</th></tr></thead>\n",
       "<tbody>\n",
       "\t<tr><td>design    </td><td>ate_YA_1_0</td><td>estimator </td><td>Z1        </td><td>-0.0006204</td><td>0.001881  </td><td>0.01952   </td><td>0.001291  </td><td>1.00      </td><td>0.00000   </td><td>⋯         </td><td>0.02867   </td><td>0.001585  </td><td>0.02829   </td><td>0.0000289 </td><td>0         </td><td>0         </td><td>0.4999    </td><td>0.002026  </td><td>100       </td><td>5000      </td></tr>\n",
       "\t<tr><td>design    </td><td>ate_YA_1_0</td><td>estimator </td><td>Z1        </td><td>-0.0021332</td><td>0.002983  </td><td>0.02776   </td><td>0.002526  </td><td>1.00      </td><td>0.00000   </td><td>⋯         </td><td>0.03981   </td><td>0.002640  </td><td>0.03996   </td><td>0.0000590 </td><td>0         </td><td>0         </td><td>0.4972    </td><td>0.002507  </td><td>100       </td><td>2505      </td></tr>\n",
       "\t<tr><td>design    </td><td>ate_YA_1_0</td><td>estimator </td><td>Z1        </td><td> 0.0049977</td><td>0.005156  </td><td>0.05051   </td><td>0.003651  </td><td>1.00      </td><td>0.00000   </td><td>⋯         </td><td>0.06393   </td><td>0.004514  </td><td>0.05627   </td><td>0.0001063 </td><td>0         </td><td>0         </td><td>0.4957    </td><td>0.004032  </td><td>100       </td><td>1257      </td></tr>\n",
       "\t<tr><td>design    </td><td>ate_YA_1_0</td><td>estimator </td><td>Z1        </td><td>-0.0078377</td><td>0.005442  </td><td>0.05453   </td><td>0.004576  </td><td>1.00      </td><td>0.00000   </td><td>⋯         </td><td>0.07249   </td><td>0.005349  </td><td>0.07941   </td><td>0.0002374 </td><td>0         </td><td>0         </td><td>0.4966    </td><td>0.005491  </td><td>100       </td><td> 633      </td></tr>\n",
       "\t<tr><td>design    </td><td>ate_YA_1_0</td><td>estimator </td><td>Z1        </td><td>-0.0091340</td><td>0.006472  </td><td>0.07763   </td><td>0.004457  </td><td>1.00      </td><td>0.00000   </td><td>⋯         </td><td>0.10921   </td><td>0.007328  </td><td>0.11112   </td><td>0.0004406 </td><td>0         </td><td>0         </td><td>0.5064    </td><td>0.007461  </td><td>100       </td><td> 321      </td></tr>\n",
       "\t<tr><td>design    </td><td>ate_YA_1_0</td><td>estimator </td><td>Z1        </td><td> 0.0010126</td><td>0.010157  </td><td>0.10094   </td><td>0.008211  </td><td>0.87      </td><td>0.03095   </td><td>⋯         </td><td>0.15029   </td><td>0.010417  </td><td>0.15497   </td><td>0.0009954 </td><td>0         </td><td>0         </td><td>0.4793    </td><td>0.011205  </td><td>100       </td><td> 165      </td></tr>\n",
       "\t<tr><td>design    </td><td>ate_YA_1_0</td><td>estimator </td><td>Z1        </td><td>-0.0090829</td><td>0.016112  </td><td>0.15065   </td><td>0.013125  </td><td>0.64      </td><td>0.05152   </td><td>⋯         </td><td>0.21583   </td><td>0.014726  </td><td>0.21181   </td><td>0.0017182 </td><td>0         </td><td>0         </td><td>0.4939    </td><td>0.016686  </td><td>100       </td><td>  87      </td></tr>\n",
       "\t<tr><td>design    </td><td>ate_YA_1_0</td><td>estimator </td><td>Z1        </td><td> 0.0291473</td><td>0.013677  </td><td>0.13828   </td><td>0.008619  </td><td>0.80      </td><td>0.03995   </td><td>⋯         </td><td>0.17521   </td><td>0.012676  </td><td>0.17861   </td><td>0.0011298 </td><td>0         </td><td>0         </td><td>0.4966    </td><td>0.012105  </td><td>100       </td><td> 126      </td></tr>\n",
       "\t<tr><td>design    </td><td>ate_YA_1_0</td><td>estimator </td><td>Z1        </td><td> 0.0173800</td><td>0.011430  </td><td>0.11211   </td><td>0.007674  </td><td>0.89      </td><td>0.03052   </td><td>⋯         </td><td>0.15088   </td><td>0.009868  </td><td>0.16502   </td><td>0.0010163 </td><td>0         </td><td>0         </td><td>0.4946    </td><td>0.010042  </td><td>100       </td><td> 145      </td></tr>\n",
       "</tbody>\n",
       "</table>\n"
      ],
      "text/latex": [
       "\\begin{tabular}{r|llllllllllllllllllllllll}\n",
       " design\\_label & estimand\\_label & estimator\\_label & term & bias & se(bias) & rmse & se(rmse) & power & se(power) & ⋯ & sd\\_estimate & se(sd\\_estimate) & mean\\_se & se(mean\\_se) & type\\_s\\_rate & se(type\\_s\\_rate) & mean\\_estimand & se(mean\\_estimand) & n\\_sims & n\\\\\n",
       "\\hline\n",
       "\t design           & ate\\_YA\\_1\\_0 & estimator        & Z1               & -0.0006204       & 0.001881         & 0.01952          & 0.001291         & 1.00             & 0.00000          & ⋯                & 0.02867          & 0.001585         & 0.02829          & 0.0000289        & 0                & 0                & 0.4999           & 0.002026         & 100              & 5000            \\\\\n",
       "\t design           & ate\\_YA\\_1\\_0 & estimator        & Z1               & -0.0021332       & 0.002983         & 0.02776          & 0.002526         & 1.00             & 0.00000          & ⋯                & 0.03981          & 0.002640         & 0.03996          & 0.0000590        & 0                & 0                & 0.4972           & 0.002507         & 100              & 2505            \\\\\n",
       "\t design           & ate\\_YA\\_1\\_0 & estimator        & Z1               &  0.0049977       & 0.005156         & 0.05051          & 0.003651         & 1.00             & 0.00000          & ⋯                & 0.06393          & 0.004514         & 0.05627          & 0.0001063        & 0                & 0                & 0.4957           & 0.004032         & 100              & 1257            \\\\\n",
       "\t design           & ate\\_YA\\_1\\_0 & estimator        & Z1               & -0.0078377       & 0.005442         & 0.05453          & 0.004576         & 1.00             & 0.00000          & ⋯                & 0.07249          & 0.005349         & 0.07941          & 0.0002374        & 0                & 0                & 0.4966           & 0.005491         & 100              &  633            \\\\\n",
       "\t design           & ate\\_YA\\_1\\_0 & estimator        & Z1               & -0.0091340       & 0.006472         & 0.07763          & 0.004457         & 1.00             & 0.00000          & ⋯                & 0.10921          & 0.007328         & 0.11112          & 0.0004406        & 0                & 0                & 0.5064           & 0.007461         & 100              &  321            \\\\\n",
       "\t design           & ate\\_YA\\_1\\_0 & estimator        & Z1               &  0.0010126       & 0.010157         & 0.10094          & 0.008211         & 0.87             & 0.03095          & ⋯                & 0.15029          & 0.010417         & 0.15497          & 0.0009954        & 0                & 0                & 0.4793           & 0.011205         & 100              &  165            \\\\\n",
       "\t design           & ate\\_YA\\_1\\_0 & estimator        & Z1               & -0.0090829       & 0.016112         & 0.15065          & 0.013125         & 0.64             & 0.05152          & ⋯                & 0.21583          & 0.014726         & 0.21181          & 0.0017182        & 0                & 0                & 0.4939           & 0.016686         & 100              &   87            \\\\\n",
       "\t design           & ate\\_YA\\_1\\_0 & estimator        & Z1               &  0.0291473       & 0.013677         & 0.13828          & 0.008619         & 0.80             & 0.03995          & ⋯                & 0.17521          & 0.012676         & 0.17861          & 0.0011298        & 0                & 0                & 0.4966           & 0.012105         & 100              &  126            \\\\\n",
       "\t design           & ate\\_YA\\_1\\_0 & estimator        & Z1               &  0.0173800       & 0.011430         & 0.11211          & 0.007674         & 0.89             & 0.03052          & ⋯                & 0.15088          & 0.009868         & 0.16502          & 0.0010163        & 0                & 0                & 0.4946           & 0.010042         & 100              &  145            \\\\\n",
       "\\end{tabular}\n"
      ],
      "text/markdown": [
       "\n",
       "design_label | estimand_label | estimator_label | term | bias | se(bias) | rmse | se(rmse) | power | se(power) | ⋯ | sd_estimate | se(sd_estimate) | mean_se | se(mean_se) | type_s_rate | se(type_s_rate) | mean_estimand | se(mean_estimand) | n_sims | n | \n",
       "|---|---|---|---|---|---|---|---|---|\n",
       "| design     | ate_YA_1_0 | estimator  | Z1         | -0.0006204 | 0.001881   | 0.01952    | 0.001291   | 1.00       | 0.00000    | ⋯          | 0.02867    | 0.001585   | 0.02829    | 0.0000289  | 0          | 0          | 0.4999     | 0.002026   | 100        | 5000       | \n",
       "| design     | ate_YA_1_0 | estimator  | Z1         | -0.0021332 | 0.002983   | 0.02776    | 0.002526   | 1.00       | 0.00000    | ⋯          | 0.03981    | 0.002640   | 0.03996    | 0.0000590  | 0          | 0          | 0.4972     | 0.002507   | 100        | 2505       | \n",
       "| design     | ate_YA_1_0 | estimator  | Z1         |  0.0049977 | 0.005156   | 0.05051    | 0.003651   | 1.00       | 0.00000    | ⋯          | 0.06393    | 0.004514   | 0.05627    | 0.0001063  | 0          | 0          | 0.4957     | 0.004032   | 100        | 1257       | \n",
       "| design     | ate_YA_1_0 | estimator  | Z1         | -0.0078377 | 0.005442   | 0.05453    | 0.004576   | 1.00       | 0.00000    | ⋯          | 0.07249    | 0.005349   | 0.07941    | 0.0002374  | 0          | 0          | 0.4966     | 0.005491   | 100        |  633       | \n",
       "| design     | ate_YA_1_0 | estimator  | Z1         | -0.0091340 | 0.006472   | 0.07763    | 0.004457   | 1.00       | 0.00000    | ⋯          | 0.10921    | 0.007328   | 0.11112    | 0.0004406  | 0          | 0          | 0.5064     | 0.007461   | 100        |  321       | \n",
       "| design     | ate_YA_1_0 | estimator  | Z1         |  0.0010126 | 0.010157   | 0.10094    | 0.008211   | 0.87       | 0.03095    | ⋯          | 0.15029    | 0.010417   | 0.15497    | 0.0009954  | 0          | 0          | 0.4793     | 0.011205   | 100        |  165       | \n",
       "| design     | ate_YA_1_0 | estimator  | Z1         | -0.0090829 | 0.016112   | 0.15065    | 0.013125   | 0.64       | 0.05152    | ⋯          | 0.21583    | 0.014726   | 0.21181    | 0.0017182  | 0          | 0          | 0.4939     | 0.016686   | 100        |   87       | \n",
       "| design     | ate_YA_1_0 | estimator  | Z1         |  0.0291473 | 0.013677   | 0.13828    | 0.008619   | 0.80       | 0.03995    | ⋯          | 0.17521    | 0.012676   | 0.17861    | 0.0011298  | 0          | 0          | 0.4966     | 0.012105   | 100        |  126       | \n",
       "| design     | ate_YA_1_0 | estimator  | Z1         |  0.0173800 | 0.011430   | 0.11211    | 0.007674   | 0.89       | 0.03052    | ⋯          | 0.15088    | 0.009868   | 0.16502    | 0.0010163  | 0          | 0          | 0.4946     | 0.010042   | 100        |  145       | \n",
       "\n",
       "\n"
      ],
      "text/plain": [
       "  design_label estimand_label estimator_label term bias       se(bias) rmse   \n",
       "1 design       ate_YA_1_0     estimator       Z1   -0.0006204 0.001881 0.01952\n",
       "2 design       ate_YA_1_0     estimator       Z1   -0.0021332 0.002983 0.02776\n",
       "3 design       ate_YA_1_0     estimator       Z1    0.0049977 0.005156 0.05051\n",
       "4 design       ate_YA_1_0     estimator       Z1   -0.0078377 0.005442 0.05453\n",
       "5 design       ate_YA_1_0     estimator       Z1   -0.0091340 0.006472 0.07763\n",
       "6 design       ate_YA_1_0     estimator       Z1    0.0010126 0.010157 0.10094\n",
       "7 design       ate_YA_1_0     estimator       Z1   -0.0090829 0.016112 0.15065\n",
       "8 design       ate_YA_1_0     estimator       Z1    0.0291473 0.013677 0.13828\n",
       "9 design       ate_YA_1_0     estimator       Z1    0.0173800 0.011430 0.11211\n",
       "  se(rmse) power se(power) ⋯ sd_estimate se(sd_estimate) mean_se se(mean_se)\n",
       "1 0.001291 1.00  0.00000   ⋯ 0.02867     0.001585        0.02829 0.0000289  \n",
       "2 0.002526 1.00  0.00000   ⋯ 0.03981     0.002640        0.03996 0.0000590  \n",
       "3 0.003651 1.00  0.00000   ⋯ 0.06393     0.004514        0.05627 0.0001063  \n",
       "4 0.004576 1.00  0.00000   ⋯ 0.07249     0.005349        0.07941 0.0002374  \n",
       "5 0.004457 1.00  0.00000   ⋯ 0.10921     0.007328        0.11112 0.0004406  \n",
       "6 0.008211 0.87  0.03095   ⋯ 0.15029     0.010417        0.15497 0.0009954  \n",
       "7 0.013125 0.64  0.05152   ⋯ 0.21583     0.014726        0.21181 0.0017182  \n",
       "8 0.008619 0.80  0.03995   ⋯ 0.17521     0.012676        0.17861 0.0011298  \n",
       "9 0.007674 0.89  0.03052   ⋯ 0.15088     0.009868        0.16502 0.0010163  \n",
       "  type_s_rate se(type_s_rate) mean_estimand se(mean_estimand) n_sims n   \n",
       "1 0           0               0.4999        0.002026          100    5000\n",
       "2 0           0               0.4972        0.002507          100    2505\n",
       "3 0           0               0.4957        0.004032          100    1257\n",
       "4 0           0               0.4966        0.005491          100     633\n",
       "5 0           0               0.5064        0.007461          100     321\n",
       "6 0           0               0.4793        0.011205          100     165\n",
       "7 0           0               0.4939        0.016686          100      87\n",
       "8 0           0               0.4966        0.012105          100     126\n",
       "9 0           0               0.4946        0.010042          100     145"
      ]
     },
     "metadata": {},
     "output_type": "display_data"
    }
   ],
   "source": [
    "power.df"
   ]
  },
  {
   "cell_type": "markdown",
   "metadata": {},
   "source": [
    "# You are Free to Copy & Reuse this Code \n",
    "\n",
    "Copyright 2019 J. Nathan Matias\n",
    "\n",
    "Permission is hereby granted, free of charge, to any person obtaining a copy of this software and associated documentation files (the \"Software\"), to deal in the Software without restriction, including without limitation the rights to use, copy, modify, merge, publish, distribute, sublicense, and/or sell copies of the Software, and to permit persons to whom the Software is furnished to do so, subject to the following conditions:\n",
    "\n",
    "The above copyright notice and this permission notice shall be included in all copies or substantial portions of the Software.\n",
    "\n",
    "THE SOFTWARE IS PROVIDED \"AS IS\", WITHOUT WARRANTY OF ANY KIND, EXPRESS OR IMPLIED, INCLUDING BUT NOT LIMITED TO THE WARRANTIES OF MERCHANTABILITY, FITNESS FOR A PARTICULAR PURPOSE AND NONINFRINGEMENT. IN NO EVENT SHALL THE AUTHORS OR COPYRIGHT HOLDERS BE LIABLE FOR ANY CLAIM, DAMAGES OR OTHER LIABILITY, WHETHER IN AN ACTION OF CONTRACT, TORT OR OTHERWISE, ARISING FROM, OUT OF OR IN CONNECTION WITH THE SOFTWARE OR THE USE OR OTHER DEALINGS IN THE SOFTWARE."
   ]
  },
  {
   "cell_type": "code",
   "execution_count": null,
   "metadata": {},
   "outputs": [],
   "source": []
  }
 ],
 "metadata": {
  "kernelspec": {
   "display_name": "R",
   "language": "R",
   "name": "ir"
  },
  "language_info": {
   "codemirror_mode": "r",
   "file_extension": ".r",
   "mimetype": "text/x-r-source",
   "name": "R",
   "pygments_lexer": "r",
   "version": "3.5.1"
  }
 },
 "nbformat": 4,
 "nbformat_minor": 2
}
